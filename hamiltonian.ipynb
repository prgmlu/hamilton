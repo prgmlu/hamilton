{
 "cells": [
  {
   "cell_type": "markdown",
   "metadata": {},
   "source": [
    "# Directed Hamiltonian Cycle Problem (DHCP)"
   ]
  },
  {
   "cell_type": "markdown",
   "metadata": {},
   "source": [
    "## Notation"
   ]
  },
  {
   "cell_type": "markdown",
   "metadata": {},
   "source": [
    "let $G=(V,E)$ be a graph where $V=\\{v_1,v_2,\\ldots,v_n\\}$ is a set of vertices, and $E=\\{e_1,e_2,\\ldots,e_m\\}$ a set of edges, where $e_l$ is an ordered pair $(v_i,v_j)$ , $n$ is the number of vertices (the size of the graph), $m$ is the number of edges\n",
    "\n",
    "A **cycle** in the graph takes the form:\n",
    "$$\n",
    "(v_0,e_1,v_1,e_2,\\ldots,e_k,v_0)\n",
    "$$\n",
    "where $k\\geq1$, and $v_i$ for $i=0,1,\\ldots,k-1$ are all distinct\n",
    "\n",
    "the integer $k$ is the length of the **cycle**\n",
    "\n",
    "a cycle is hamiltonian is if the cycle's length $k$ is equal to $n$ the number of nodes in the graph: $k=n$\n",
    "\n",
    "$p$ is the probability of the existence of an edge in a graph\n",
    "\n",
    "(Fournier 2010: 31)"
   ]
  },
  {
   "cell_type": "markdown",
   "metadata": {},
   "source": [
    "## Definition of the problem"
   ]
  },
  {
   "cell_type": "markdown",
   "metadata": {},
   "source": [
    "* **Decisional DHCP**:\n",
    "\n",
    "    Given a directed graph $G=(V,E)$ decide if $G$ contains a **Hamiltonian Cycle**\n",
    "    \n",
    "    * Complexity class: NP-Complete.\n",
    "\n",
    "\n",
    "\n",
    "* **Computational/Search DHCP**:\n",
    "\n",
    "    if G has a hamiltonian cycle, then find it.\n",
    "    \n",
    "    * Complexity class: NP-Complete\n",
    "\n",
    "\n",
    "* ** Optimization DHCP**:\n",
    "\n",
    "    Given a Directed Graph $G(V,E)$, maximize or minimize a certain value in a given cycle.\n",
    "    \n",
    "    * Complexity class: NP-Hard\n",
    "    \n",
    "(Garey and Johnson 1979)"
   ]
  },
  {
   "cell_type": "markdown",
   "metadata": {},
   "source": [
    "## Testing methodology"
   ]
  },
  {
   "cell_type": "markdown",
   "metadata": {},
   "source": [
    "* **Exhaustive search**:\n",
    "   Measuring the average time to decide instances with increasing $n$ and constant edge existence probability $p$.\n",
    "    \n",
    "    \n",
    "* **Greedy and meta-heuristics**:\n",
    "   Minimize the use of **fictitious** edges in a given cycle, and compare the peformance of both methods on the same graphs with increasing $n$, and fixed edge probability $p$.\n",
    "    \n",
    "    \n",
    "* **Special cases**:\n",
    "    Generate random instances of graphs, then check if the graph generated is one of the special cases.\n",
    "    \n"
   ]
  },
  {
   "cell_type": "markdown",
   "metadata": {},
   "source": [
    "### Random instances sampling strategy"
   ]
  },
  {
   "cell_type": "markdown",
   "metadata": {},
   "source": [
    "Random graphs will be generated using the Erdos-Renyi model (Erdos and Renyi 1959), in particular the G(n,p) model.\n",
    "\n",
    "The model samples a random graph with a given size $n$ and edge existence probability $p$ uniformly at random, with **all** graphs of a given $n$ and a given $p$ equally likely to be sampled.\n",
    "\n",
    "After generating a random graph instance of a certain size and edge probability, to generate a **Yes** instance, a random permutation of size $n$ vertices is sampled, with all the permutations equally likely, then the last vertex is connected to the first, then the permutation is added to the graph."
   ]
  },
  {
   "cell_type": "markdown",
   "metadata": {},
   "source": [
    "## Code\n",
    "\n",
    "Importing the relevant libraries"
   ]
  },
  {
   "cell_type": "code",
   "execution_count": 7,
   "metadata": {
    "collapsed": true
   },
   "outputs": [],
   "source": [
    "import networkx as nx\n",
    "from time import time\n",
    "from math import exp\n",
    "\n",
    "from random import uniform\n",
    "from random import randint\n",
    "\n",
    "import numpy as np\n",
    "from scipy.optimize import curve_fit\n",
    "from scipy.special import factorial\n",
    "\n",
    "import matplotlib.pyplot as plt\n",
    "%matplotlib inline"
   ]
  },
  {
   "cell_type": "markdown",
   "metadata": {},
   "source": [
    "## Random Graph construction function"
   ]
  },
  {
   "cell_type": "code",
   "execution_count": 8,
   "metadata": {
    "collapsed": true
   },
   "outputs": [],
   "source": [
    "def random_graph(n,p):\n",
    "    '''\n",
    "    this function take a number n: the number of nodes\n",
    "    and p: the probability of the existence of an edge or not\n",
    "    with all edges are equally likely\n",
    "    '''\n",
    "    \n",
    "    #creating a directed graph G\n",
    "    G=nx.DiGraph()\n",
    "    #filling it with nodes from 0 to n\n",
    "    nodes=[i for i in range(n)]\n",
    "    G.add_nodes_from(nodes)\n",
    "    #looping over all all the nodes twice, and at every possible edge between two nodes, i draw a random number\n",
    "    #in the range from 0-1 using uniform(0,1) and if that number is less than p, we add that edge to the graph\n",
    "    #\n",
    "    for i in range(n):\n",
    "        for j in range(n):\n",
    "            if uniform(0,1)<p and i!=j:\n",
    "                G.add_edge(i,j)\n",
    "    return G"
   ]
  },
  {
   "cell_type": "code",
   "execution_count": 9,
   "metadata": {},
   "outputs": [
    {
     "data": {
      "image/png": "[encoded data removed]",
      "text/plain": [
       "<matplotlib.figure.Figure at 0x1cec2600d30>"
      ]
     },
     "metadata": {},
     "output_type": "display_data"
    }
   ],
   "source": [
    "#a graph with medium value for p (medium connectivity of edges)\n",
    "G=random_graph(15,0.2)\n",
    "nx.draw_circular(G,with_labels=True)"
   ]
  },
  {
   "cell_type": "markdown",
   "metadata": {},
   "source": [
    "## Functions for injecting and detecting hamiltonian cycles\n",
    "\n"
   ]
  },
  {
   "cell_type": "code",
   "execution_count": 10,
   "metadata": {
    "collapsed": true
   },
   "outputs": [],
   "source": [
    "def add_hamiltonian_cycle(G):\n",
    "    '''\n",
    "    adds a hamiltonian cycle by drawing a random permutation\n",
    "    '''\n",
    "    p=np.random.permutation(len(G))\n",
    "    p=np.append(p,p[0])\n",
    "    for i in range(1,len(p)):\n",
    "        G.add_edge(p[i-1],p[i])    \n",
    "    return p"
   ]
  },
  {
   "cell_type": "markdown",
   "metadata": {},
   "source": [
    "\n",
    "# Solution Methods"
   ]
  },
  {
   "cell_type": "markdown",
   "metadata": {},
   "source": [
    "## Exact methods -- Exhaustive search"
   ]
  },
  {
   "cell_type": "markdown",
   "metadata": {},
   "source": [
    "Traverses every possible path in a given Graph from a start node\n",
    ",keeping a separate stack of every path.\n",
    "\n",
    "Whenever it encounters a cycle, it checks it's size to see if its hamiltonian, and returns True if it is. otherwise it returns False after examining all possible paths."
   ]
  },
  {
   "cell_type": "markdown",
   "metadata": {},
   "source": [
    "There are $n!$ worst case possible hamiltonian cycles in a complete graph.\n",
    "So this algorithm costs $$O(n!).$$"
   ]
  },
  {
   "cell_type": "markdown",
   "metadata": {},
   "source": [
    "**Pseudo-code:**"
   ]
  },
  {
   "cell_type": "markdown",
   "metadata": {},
   "source": [
    "\n",
    "**for** all neighbors of current node **do**:\n",
    "\n",
    ">**if** neighbor was visited before on the current path:\n",
    "\n",
    ">>**if** length of the path **is** n:\n",
    "\n",
    ">>> **return True**\n",
    "\n",
    ">**else**:\n",
    ">>push neighbor and it's to the stack\n",
    "\n",
    ">pop the stack\n",
    "\n",
    "**return False **"
   ]
  },
  {
   "cell_type": "code",
   "execution_count": 11,
   "metadata": {
    "collapsed": true
   },
   "outputs": [],
   "source": [
    "def exhaustive_search_for_hamiltonian(G,start):\n",
    "    '''\n",
    "    detects the existence of a hamiltonian cycle using depth first search,\n",
    "    by looking at all possible paths through the graph starting from a given node\n",
    "    '''\n",
    "    paths_and_parents=[]\n",
    "    current_path=[start]\n",
    "    current_parents={start:None}\n",
    "    paths_and_parents.append((current_path,current_parents))\n",
    "    \n",
    "    while len(paths_and_parents)>0:\n",
    "        current_path,current_parents=paths_and_parents.pop()\n",
    "        current_node=current_path.pop()\n",
    "        for neighbor in list(G.neighbors(current_node)):\n",
    "            if not neighbor in current_parents:\n",
    "                parents_=dict(current_parents)\n",
    "                path_=list(current_path)\n",
    "                parents_[neighbor]=current_node\n",
    "                path_.append(neighbor)\n",
    "                paths_and_parents.append((path_,parents_))\n",
    "            if neighbor in current_parents:\n",
    "                #cycle found, check if it's hamiltonian\n",
    "                if len(current_parents)==len(G):\n",
    "                    return True\n",
    "    return False\n"
   ]
  },
  {
   "cell_type": "code",
   "execution_count": 12,
   "metadata": {},
   "outputs": [
    {
     "data": {
      "text/plain": [
       "array([ 2,  4,  6,  7,  9, 13,  1,  0, 10, 12, 14,  3,  8,  5, 11,  2])"
      ]
     },
     "execution_count": 12,
     "metadata": {},
     "output_type": "execute_result"
    }
   ],
   "source": [
    "add_hamiltonian_cycle(G)"
   ]
  },
  {
   "cell_type": "markdown",
   "metadata": {},
   "source": [
    "## Evaluation"
   ]
  },
  {
   "cell_type": "code",
   "execution_count": 47,
   "metadata": {},
   "outputs": [
    {
     "name": "stdout",
     "output_type": "stream",
     "text": [
      "n\tExhaustive\n",
      "14\t0.0006149633725484212\n",
      "15\t0.0007753952344258626\n",
      "16\t0.0019184343020121257\n",
      "17\t0.0014054059982299804\n",
      "18\t0.0035661466916402183\n",
      "19\t0.008380613327026366\n",
      "20\t0.014135908285776775\n",
      "21\t0.04373626470565796\n",
      "22\t0.0776843269666036\n",
      "23\t0.02727285385131836\n",
      "24\t0.4757329344749451\n"
     ]
    }
   ],
   "source": [
    "pnts_n = []\n",
    "pnts_t = []\n",
    "def time_Exhaustive():\n",
    "    # test exhaustive search\n",
    "    print(\"n\\tExhaustive\" ) # header\n",
    "    max_repeats = 300\n",
    "    n  = 14\n",
    "    t0 = t1 = 0\n",
    "    while t1-t0<60: # in seconds; if it takes too long then stop testing\n",
    "        t0 = time()\n",
    "        for repeats in range(max_repeats): # e.g. average over many instances\n",
    "            G=random_graph(n,.15)\n",
    "            add_hamiltonian_cycle(G)\n",
    "            exhaustive_search_for_hamiltonian(G,0)\n",
    "            \n",
    "        t1 = time()\n",
    "        # record average time\n",
    "        print( str(n)+\"\\t\"+str((t1-t0)/max_repeats) )\n",
    "        pnts_n.append( n )\n",
    "        pnts_t.append( (t1-t0)/max_repeats )\n",
    "        n += 1\n",
    "time_Exhaustive()"
   ]
  },
  {
   "cell_type": "code",
   "execution_count": 48,
   "metadata": {},
   "outputs": [
    {
     "data": {
      "image/png": "[encoded data removed]",
      "text/plain": [
       "<matplotlib.figure.Figure at 0x1cec0b86438>"
      ]
     },
     "metadata": {},
     "output_type": "display_data"
    }
   ],
   "source": [
    "plt.plot(pnts_n, pnts_t, 'ro-')\n",
    "plt.show()"
   ]
  },
  {
   "cell_type": "code",
   "execution_count": 49,
   "metadata": {},
   "outputs": [
    {
     "data": {
      "image/png": "[encoded data removed]",
      "text/plain": [
       "<matplotlib.figure.Figure at 0x1cec4e6feb8>"
      ]
     },
     "metadata": {},
     "output_type": "display_data"
    }
   ],
   "source": [
    "def func(x, a,b):\n",
    "    return a*(factorial(x) ) + b\n",
    "\n",
    "popt, pcov = curve_fit(func, pnts_n, pnts_t,maxfev=100000)\n",
    "\n",
    "x = pnts_n\n",
    "y = pnts_t\n",
    "plt.figure()\n",
    "plt.plot(x, y, 'bo', label=\"Measurement\")\n",
    "xx = np.linspace(pnts_n[0],pnts_n[-1],50)\n",
    "plt.plot(xx, func(xx, *popt), 'r-', linewidth=2, color='teal', label=\"Fitted Curve\")\n",
    "plt.legend(loc='best')\n",
    "plt.show()"
   ]
  },
  {
   "cell_type": "markdown",
   "metadata": {},
   "source": [
    "## Discussion"
   ]
  },
  {
   "cell_type": "markdown",
   "metadata": {},
   "source": [
    "Exhaustive search is very slow and impractical for larger graphs.\n",
    "\n",
    "but it is useful when $n$ is small."
   ]
  },
  {
   "cell_type": "markdown",
   "metadata": {},
   "source": [
    "## Greedy"
   ]
  },
  {
   "cell_type": "markdown",
   "metadata": {},
   "source": [
    "Using the **fictitious edges** method to complete the graph, giving original edges weights equal to 1 and fictitious edges weights equal 5, and using TSP greedy heuristic of tour construction that sorts all the outgoing edges everytime according to weight, and trying all different start nodes which has complexity:\n",
    "    $$O(n^3lg_2(n))$$\n",
    " assuming the use of a $nlgn$ sorting algorithm\n",
    "\n",
    "(Nilsson 2003)"
   ]
  },
  {
   "cell_type": "markdown",
   "metadata": {},
   "source": [
    "**Pseudo code:**"
   ]
  },
  {
   "cell_type": "markdown",
   "metadata": {},
   "source": [
    "**for** all possible start nodes **do**:\n",
    ">Sort all edges according to weight.\n",
    "\n",
    ">Select the cheapest edge and add it to our tour\n",
    "\n",
    ">Stop if we have N edges in the tour\n",
    "\n",
    "**return** cheapest tour"
   ]
  },
  {
   "cell_type": "markdown",
   "metadata": {},
   "source": [
    "# Code"
   ]
  },
  {
   "cell_type": "markdown",
   "metadata": {},
   "source": [
    "Completing the graph with \"**fictitious edges**\", giving them weights = 5, the plan is to minimize the use of them"
   ]
  },
  {
   "cell_type": "code",
   "execution_count": 23,
   "metadata": {
    "collapsed": true
   },
   "outputs": [],
   "source": [
    "def complete_fictitious(G):\n",
    "    #sets the weights for the original edges to 1, and completes the graph with fictitious\n",
    "    #with weights equal to 5\n",
    "    for src_node in G:\n",
    "        for dest_node in G[src_node]:\n",
    "            G[src_node][dest_node]['weight']=1\n",
    "    for i in range (len(G)):\n",
    "        for j in range(len(G)):\n",
    "            if i!=j:\n",
    "                if j not in G[i]:\n",
    "                    G.add_edge(i,j,weight=5)"
   ]
  },
  {
   "cell_type": "markdown",
   "metadata": {},
   "source": [
    "#### Greedily constructs a tour, sorting the remaining vertices each time and picks the next vertex by minimum weight"
   ]
  },
  {
   "cell_type": "code",
   "execution_count": 24,
   "metadata": {
    "collapsed": true
   },
   "outputs": [],
   "source": [
    "def greedy(G,start):\n",
    "    #tour starts with the start node\n",
    "    tour=[start]\n",
    "    current_node=start\n",
    "    while(True):\n",
    "        #nodes sorted by edge weights\n",
    "        edges=sorted(G.adj[current_node],key=lambda x:G.adj[current_node][x]['weight'])\n",
    "        #edges are the current node's neighboring vertices , which include fictitous and non-fictitious connections\n",
    "        for i in range(len(edges)):\n",
    "            #loop over the neighboring vertices in sorted order, if a vertex was already in the tour skip it,\n",
    "            #otherwise add it to the tour and update the current node to be the last vertex added\n",
    "            if edges[i] not in tour:\n",
    "                tour.append(edges[i])\n",
    "                current_node=tour[-1]\n",
    "                #break out of the for loop\n",
    "                break\n",
    "        if len(tour)==len(G):\n",
    "            #if the tour is complete, connect the ending vertex to the start and return the tour\n",
    "            tour.append(start)\n",
    "            return tour\n"
   ]
  },
  {
   "cell_type": "markdown",
   "metadata": {},
   "source": [
    "#### Evaluates the cost of a given tour"
   ]
  },
  {
   "cell_type": "code",
   "execution_count": 25,
   "metadata": {
    "collapsed": true
   },
   "outputs": [],
   "source": [
    "def evaluate_cost(G,soln):\n",
    "    #takes complete graphs with weights, and evaluates the cost by summing the weights\n",
    "    return sum([G.adj[soln[i]][soln[i+1]]['weight'] for i in range(0,len(G))])"
   ]
  },
  {
   "cell_type": "markdown",
   "metadata": {},
   "source": [
    "#### This function tries all start nodes, and returns the minimum cost greedy tour and its cost"
   ]
  },
  {
   "cell_type": "code",
   "execution_count": 26,
   "metadata": {
    "collapsed": true
   },
   "outputs": [],
   "source": [
    "def min_greedy_tour(G):\n",
    "    #evaluates the cost of all greedy tours (trying all nodes as start node)\n",
    "    #returns the minimum costs tour and its costs at each step\n",
    "    tours_and_costs=[]\n",
    "    for i in range(len(G)):\n",
    "        tours_and_costs.append( (greedy(G,i) , evaluate_cost(G,greedy(G,i))) )\n",
    "    return min(tours_and_costs,key=lambda x:x[1])"
   ]
  },
  {
   "cell_type": "markdown",
   "metadata": {},
   "source": [
    "## Evaluation"
   ]
  },
  {
   "cell_type": "code",
   "execution_count": 27,
   "metadata": {},
   "outputs": [
    {
     "name": "stdout",
     "output_type": "stream",
     "text": [
      "n\tGreedy\n",
      "14\t 0.014\n",
      "15\t 0.017\n",
      "16\t 0.022\n",
      "17\t 0.026\n",
      "18\t 0.033\n",
      "19\t 0.035\n",
      "20\t 0.044\n",
      "21\t 0.049\n",
      "22\t 0.054\n"
     ]
    }
   ],
   "source": [
    "pnts_n = []\n",
    "pnts_t = []\n",
    "def time_greedy():\n",
    "    # test greedy tour construction\n",
    "    print(\"n\\tGreedy\" ) # header\n",
    "    max_repeats = 300\n",
    "    n  = 14\n",
    "    t0 = t1 = 0\n",
    "    while t1-t0<15:  #in seconds; if it takes too long then stop testing\n",
    "        t0 = time()\n",
    "        for repeats in range(max_repeats): # e.g. average over many instances\n",
    "            G=random_graph(n,0.15)\n",
    "            add_hamiltonian_cycle(G)\n",
    "            complete_fictitious(G)\n",
    "            min_greedy_tour(G)\n",
    "            \n",
    "        t1 = time()\n",
    "        # record average time\n",
    "        print( str(n)+\"\\t %.3f\"% ((t1-t0)/max_repeats) )\n",
    "        pnts_n.append( n )\n",
    "        pnts_t.append( (t1-t0)/max_repeats )\n",
    "        n += 1\n",
    "time_greedy()"
   ]
  },
  {
   "cell_type": "markdown",
   "metadata": {},
   "source": [
    "### Fitting a $n^3 log(n)$ curve to the points"
   ]
  },
  {
   "cell_type": "code",
   "execution_count": 28,
   "metadata": {},
   "outputs": [
    {
     "data": {
      "image/png": "[encoded data removed]",
      "text/plain": [
       "<matplotlib.figure.Figure at 0x1cec47c8828>"
      ]
     },
     "metadata": {},
     "output_type": "display_data"
    }
   ],
   "source": [
    "plt.plot(pnts_n, pnts_t, 'ro-')\n",
    "plt.show()"
   ]
  },
  {
   "cell_type": "code",
   "execution_count": 29,
   "metadata": {},
   "outputs": [
    {
     "data": {
      "image/png": "[encoded data removed]",
      "text/plain": [
       "<matplotlib.figure.Figure at 0x1cec46e2f28>"
      ]
     },
     "metadata": {},
     "output_type": "display_data"
    }
   ],
   "source": [
    "def func(x, a,b):\n",
    "    return a*(x**3)*np.log2(x) + b\n",
    "\n",
    "popt, pcov = curve_fit(func, pnts_n, pnts_t,maxfev=100000)\n",
    "\n",
    "x = pnts_n\n",
    "y = pnts_t\n",
    "plt.figure()\n",
    "plt.plot(x, y, 'bo', label=\"Measurement\")\n",
    "xx = np.linspace(pnts_n[0],pnts_n[-1],50)\n",
    "plt.plot(xx, func(xx, *popt), 'r-', linewidth=2, color='teal', label=\"Fitted Curve\")\n",
    "plt.legend(loc='best')\n",
    "plt.show()"
   ]
  },
  {
   "cell_type": "markdown",
   "metadata": {},
   "source": [
    "## Discussion\n",
    "\n",
    "Greedy algorithm exhibits polynomial running time, and provides approximations around 90% accurate.\n"
   ]
  },
  {
   "cell_type": "markdown",
   "metadata": {},
   "source": [
    "## Meta-heuristics: Simulated-annealing"
   ]
  },
  {
   "cell_type": "markdown",
   "metadata": {},
   "source": [
    "Simulated-annealing algorithm mimics the heating and slow cooling of metals to form crystals, taking inspiration from physics.\n",
    "\n",
    "This meta-heuristic allows probabilistically transitioning to a worse state, with higher probability of a transition to a worse state at the early stages(higher temperatures), then the probability(temperature) gradually decrease, while keeping track of the best solution encountered."
   ]
  },
  {
   "cell_type": "markdown",
   "metadata": {},
   "source": [
    "The algorithm depends linearly on $n$, since all cost evaluations are done independently, and each evaluation is O(n), but the constant is relatively big compared to the greedy algorithm\n",
    "So this algorithm costs $$O(n).$$\n",
    "(Brownlee 2011: 170)"
   ]
  },
  {
   "cell_type": "markdown",
   "metadata": {},
   "source": [
    "**Pseudo-code**:"
   ]
  },
  {
   "cell_type": "markdown",
   "metadata": {},
   "source": [
    "start_solution $\\gets $random_initial_solution(problem_size)\n",
    "\n",
    "best_solution $\\gets$ start_solution\n",
    "\n",
    "temperature $\\gets$ temperature_init\n",
    "\n",
    "**for** i in range(max_iterations):\n",
    "\n",
    ">**if** **i** $\\%$ temp_decrease is 0:\n",
    "\n",
    ">>decrease temp\n",
    "\n",
    ">candidate_solution $\\gets$ perturb_solution(current_solution)\n",
    "\n",
    ">**if** cost(candidate_solution) < cost(current_solution):\n",
    "\n",
    ">>current_solution $\\gets$ candidate_solution\n",
    "\n",
    ">> **if** cost(current_solution)<cost(best_solution):\n",
    "\n",
    ">>> best_solution $\\gets$ current_solution\n",
    "\n",
    ">**else**:\n",
    "\n",
    ">> **if** transition_probability(current_state) > Rand():\n",
    ">>> current_solution $\\gets$ candidate_solution\n",
    "\n",
    "**end**\n",
    "\n",
    "**return** best_solution"
   ]
  },
  {
   "cell_type": "code",
   "execution_count": 25,
   "metadata": {
    "collapsed": true
   },
   "outputs": [],
   "source": [
    "def random_soln(n):\n",
    "    '''\n",
    "    to generate initital random solution for SA\n",
    "    '''\n",
    "    p=list(np.random.permutation(n))\n",
    "    p.append(p[0])\n",
    "    return p"
   ]
  },
  {
   "cell_type": "code",
   "execution_count": 3,
   "metadata": {
    "collapsed": true
   },
   "outputs": [],
   "source": [
    "def perturb_soln(soln,n):\n",
    "    '''\n",
    "    works and functional, awesome\n",
    "    '''\n",
    "    copy=list(soln)\n",
    "    #takes a solution (hamiltonian cycle) and a number n, and perturbs the solution by switches n pairs of nodes\n",
    "    #and returns the perturbed solution\n",
    "    #RENAME THE VARIABLES TO MAKE SENSE\n",
    "    x=[randint(0,len(soln)-2) for i in range(n)]\n",
    "    y=[randint(0,len(soln)-2) for i in range(n)]\n",
    "    \n",
    "    for i in range(n):\n",
    "        temp=copy[x[i]]\n",
    "        copy[x[i]]=copy[y[i]]\n",
    "        copy[y[i]]=temp\n",
    "    copy[-1]=copy[0]\n",
    "    return copy\n",
    "    "
   ]
  },
  {
   "cell_type": "code",
   "execution_count": 25,
   "metadata": {},
   "outputs": [
    {
     "data": {
      "text/plain": [
       "[7, 2, 3, 4, 5, 1, 6, 7]"
      ]
     },
     "execution_count": 25,
     "metadata": {},
     "output_type": "execute_result"
    }
   ],
   "source": [
    "perturb_soln([1,2,3,4,5,6,7,1],2)"
   ]
  },
  {
   "cell_type": "code",
   "execution_count": 28,
   "metadata": {
    "collapsed": true
   },
   "outputs": [],
   "source": [
    "def transition_probability(current,candidate,temp):\n",
    "    return exp((current-candidate)/temp)"
   ]
  },
  {
   "cell_type": "code",
   "execution_count": 5,
   "metadata": {
    "collapsed": true
   },
   "outputs": [],
   "source": [
    "def simulated_annealing(G):\n",
    "    best=random_soln(len(G))\n",
    "    current=list(best)\n",
    "    #initial temperature =5 and is decreased each 25000 steps\n",
    "    temperature=5\n",
    "    for i in range(100000):\n",
    "        if i==25000:\n",
    "            temperature=3\n",
    "        if i==50000:\n",
    "            temperature=2\n",
    "        if i==75000:\n",
    "            temperature=1\n",
    "        perturbed=perturb_soln(current,randint(1,3))\n",
    "        perturbed_cost=evaluate_cost(G,perturbed)\n",
    "        current_cost=evaluate_cost(G,current)\n",
    "        if perturbed_cost<current_cost:\n",
    "            current=list(perturbed)\n",
    "            if perturbed_cost<evaluate_cost(G,best):\n",
    "                best=list(perturbed)\n",
    "        if perturbed_cost>current_cost:\n",
    "            if transition_probability(current_cost,perturbed_cost,temperature)>uniform(0,1):                \n",
    "                current=list(perturbed)\n",
    "    return best"
   ]
  },
  {
   "cell_type": "code",
   "execution_count": 45,
   "metadata": {},
   "outputs": [
    {
     "name": "stdout",
     "output_type": "stream",
     "text": [
      "n\\SA\n",
      "10\t 4.637\n",
      "11\t 4.949\n",
      "12\t 6.007\n",
      "13\t 6.393\n",
      "14\t 6.180\n",
      "15\t 6.229\n",
      "16\t 7.605\n",
      "17\t 7.091\n",
      "18\t 7.437\n",
      "19\t 8.915\n",
      "20\t 7.997\n",
      "21\t 8.872\n",
      "22\t 9.529\n",
      "23\t 8.804\n",
      "24\t 9.827\n",
      "25\t 10.093\n",
      "26\t 9.780\n",
      "27\t 11.243\n",
      "28\t 10.875\n",
      "29\t 11.694\n",
      "30\t 11.187\n",
      "31\t 12.381\n"
     ]
    }
   ],
   "source": [
    "pnts_n = []\n",
    "pnts_t = []\n",
    "def time_sa():\n",
    "    # test simulated annealing search\n",
    "    print(\"n\\tSA\" ) # header\n",
    "    max_repeats = 5\n",
    "    n  = 10\n",
    "    t0 = t1 = 0\n",
    "    while t1-t0<60:  #in seconds; if it takes too long then stop testing\n",
    "        t0 = time()\n",
    "        for repeats in range(max_repeats): # e.g. average over many instances\n",
    "            G=random_graph(n,0.15)\n",
    "            add_hamiltonian_cycle(G)\n",
    "            complete_fictitious(G)\n",
    "            simulated_annealing(G)\n",
    "            \n",
    "        t1 = time()\n",
    "        # record average time\n",
    "        print( str(n)+\"\\t %.3f\"% ((t1-t0)/max_repeats) )\n",
    "        pnts_n.append( n )\n",
    "        pnts_t.append( (t1-t0)/max_repeats )\n",
    "        n += 1\n",
    "time_sa()"
   ]
  },
  {
   "cell_type": "code",
   "execution_count": 135,
   "metadata": {},
   "outputs": [
    {
     "data": {
      "image/png": "[encoded data removed]",
      "text/plain": [
       "<matplotlib.figure.Figure at 0x15e4c804518>"
      ]
     },
     "metadata": {},
     "output_type": "display_data"
    }
   ],
   "source": [
    "plt.plot(pnts_n, pnts_t, 'ro-')\n",
    "plt.show()"
   ]
  },
  {
   "cell_type": "markdown",
   "metadata": {},
   "source": [
    "### Fitting a line to the points"
   ]
  },
  {
   "cell_type": "code",
   "execution_count": 47,
   "metadata": {},
   "outputs": [
    {
     "data": {
      "image/png": "[encoded data removed]",
      "text/plain": [
       "<matplotlib.figure.Figure at 0x1fa837876d8>"
      ]
     },
     "metadata": {},
     "output_type": "display_data"
    }
   ],
   "source": [
    "def func(x, a,b):\n",
    "    return a*(x) + b\n",
    "\n",
    "popt, pcov = curve_fit(func, pnts_n, pnts_t,maxfev=100000)\n",
    "\n",
    "x = pnts_n\n",
    "y = pnts_t\n",
    "plt.figure()\n",
    "plt.plot(x, y, 'bo', label=\"Measurement\")\n",
    "xx = np.linspace(pnts_n[0],pnts_n[-1],50)\n",
    "plt.plot(xx, func(xx, *popt), 'r-', linewidth=2, color='teal', label=\"Fitted Curve\")\n",
    "plt.legend(loc='best')\n",
    "plt.show()"
   ]
  },
  {
   "cell_type": "markdown",
   "metadata": {},
   "source": [
    "## Discussion\n",
    "\n",
    "simulated annealing exhibits linear running time, but with a big constant factor."
   ]
  },
  {
   "cell_type": "markdown",
   "metadata": {},
   "source": [
    "\n",
    "### Comparing Greedy and Simulated-annealing meta-heuristic"
   ]
  },
  {
   "cell_type": "markdown",
   "metadata": {},
   "source": [
    "**Comparing the approximations produced by the greedy aglorithm and the meta-heuristic on the same random graph**\n",
    "**averaging over multiple instances**"
   ]
  },
  {
   "cell_type": "code",
   "execution_count": 23,
   "metadata": {
    "collapsed": true
   },
   "outputs": [],
   "source": [
    "def ratio_fictitious(G,soln):\n",
    "    #returns the ratio of the count of original edges to the count of fictitious edges in a solution\n",
    "    cost=evaluate_cost(G,soln)\n",
    "    fictitious_count= (cost-len(G))/4\n",
    "    return 1-fictitious_count/len(G)"
   ]
  },
  {
   "cell_type": "code",
   "execution_count": 52,
   "metadata": {},
   "outputs": [
    {
     "name": "stdout",
     "output_type": "stream",
     "text": [
      "n\tGreedy\tSA\n",
      "10\t 0.890\t 1.000\n",
      "11\t 0.855\t 1.000\n",
      "12\t 0.892\t 1.000\n",
      "13\t 0.900\t 1.000\n",
      "14\t 0.857\t 0.957\n",
      "15\t 0.867\t 0.973\n",
      "16\t 0.869\t 0.956\n",
      "17\t 0.876\t 0.941\n",
      "18\t 0.878\t 0.978\n",
      "19\t 0.905\t 0.947\n",
      "20\t 0.915\t 0.960\n",
      "21\t 0.910\t 0.938\n",
      "22\t 0.905\t 0.941\n",
      "23\t 0.917\t 0.939\n",
      "24\t 0.917\t 0.954\n"
     ]
    }
   ],
   "source": [
    "pnts_greedy = []\n",
    "pnts_sa = []\n",
    "\n",
    "def test_Approximation():\n",
    "    print( \"n\\tGreedy\\tSA\" )\n",
    "    max_repeats = 10\n",
    "    n = 10\n",
    "    for n in range(10,25):\n",
    "        temp_greedy=[]\n",
    "        temp_sa=[]\n",
    "        for repeats in range(max_repeats):\n",
    "            G=random_graph(n,0.2)\n",
    "            add_hamiltonian_cycle(G)\n",
    "            complete_fictitious(G)\n",
    "            \n",
    "            temp_greedy.append(ratio_fictitious(G, min_greedy_tour(G)[0]))\n",
    "            temp_sa.append( ratio_fictitious(G, simulated_annealing(G) ) )\n",
    "\n",
    "        pnts_greedy.append(sum(temp_greedy)/max_repeats)\n",
    "        pnts_sa.append(sum(temp_sa)/max_repeats)\n",
    "        print (str(n)+'\\t %.3f'%(pnts_greedy[n-10]) +'\\t %.3f' %(pnts_sa[n-10]))\n",
    "\n",
    "test_Approximation()"
   ]
  },
  {
   "cell_type": "code",
   "execution_count": 53,
   "metadata": {},
   "outputs": [
    {
     "data": {
      "image/png": "[encoded data removed]",
      "text/plain": [
       "<matplotlib.figure.Figure at 0x1fa83910ba8>"
      ]
     },
     "metadata": {},
     "output_type": "display_data"
    }
   ],
   "source": [
    "plt.figure()\n",
    "p1 = plt.plot([i for i in range(10,25)], pnts_greedy, 'bo-', label=\"Greedy\")\n",
    "p3 = plt.plot([i for i in range(10,25)], pnts_sa, 'go-', label=\"SA\")\n",
    "plt.legend(loc='best')\n",
    "plt.show()"
   ]
  },
  {
   "cell_type": "markdown",
   "metadata": {},
   "source": [
    "## Discussion\n",
    "\n",
    "Simulated annealing gives better approximations than greedy algorithm for all tested cases, and even succeeds in finding the Hamiltonian cycle in smaller instances.\n",
    "\n",
    "Greedy algorithm gradually gives better approximations as n grows larger."
   ]
  },
  {
   "cell_type": "markdown",
   "metadata": {},
   "source": [
    "## 1. **Corollary 5.6.3:**\n",
    "**(Bang-jensen and Gutin: 241)**\n",
    "\n",
    "Let $G$ be a digraph of order $n$. If the minimum semi-degree (out-degree and in-degree) of (D) ≥ n/2, then D is hamiltonian\n"
   ]
  },
  {
   "cell_type": "markdown",
   "metadata": {},
   "source": [
    "The algorithm costs: $$O(n).$$"
   ]
  },
  {
   "cell_type": "code",
   "execution_count": 1,
   "metadata": {
    "collapsed": true
   },
   "outputs": [],
   "source": [
    "def corollary_1(G):\n",
    "    #find minimal in-degree of G and minimal out-degree of G\n",
    "    #choosing an initial large values\n",
    "    min_in_degree=1000\n",
    "    min_out_degree=1000\n",
    "    for i in range(len(G)):\n",
    "        if G.in_degree(i)<min_in_degree:\n",
    "            min_in_degree=G.in_degree(i)\n",
    "        if G.out_degree(i)<min_out_degree:\n",
    "            min_out_degree=G.out_degree(i)\n",
    "    sufficient_condition=len(G)/2\n",
    "    if min_in_degree>=sufficient_condition and min_out_degree>=sufficient_condition:\n",
    "        return True\n",
    "    else:\n",
    "        return 'undetermined'\n",
    "    "
   ]
  },
  {
   "cell_type": "code",
   "execution_count": 95,
   "metadata": {},
   "outputs": [
    {
     "data": {
      "text/plain": [
       "True"
      ]
     },
     "execution_count": 95,
     "metadata": {},
     "output_type": "execute_result"
    }
   ],
   "source": [
    "corollary_1(G)"
   ]
  },
  {
   "cell_type": "markdown",
   "metadata": {},
   "source": [
    "## 2. Corollary 5.6.2 **(Ghouila-Houri):**\n",
    "If the degree of every vertex in a strong digraph $D$ of order $n$ is at least $n$, then $D$ is hamiltonian\n",
    "(Bang-jensen and Gutin: 241)"
   ]
  },
  {
   "cell_type": "markdown",
   "metadata": {},
   "source": [
    "The algorithm costs: $$O(n).$$"
   ]
  },
  {
   "cell_type": "code",
   "execution_count": 96,
   "metadata": {
    "collapsed": true
   },
   "outputs": [],
   "source": [
    "def ghouila_houri(G):\n",
    "    #find minimal in-degree of G and minimal out-degree of G\n",
    "    #choosing an initial large values\n",
    "    min_degree=1000\n",
    "    for i in range(len(G)):\n",
    "        if G.degree(i)<min_degree:\n",
    "            min_degree=G.degree(i)\n",
    "    sufficient_condition=len(G)\n",
    "    if min_degree>=sufficient_condition:\n",
    "        return True\n",
    "    else:\n",
    "        return 'undetermined'\n",
    "    "
   ]
  },
  {
   "cell_type": "markdown",
   "metadata": {},
   "source": [
    "## 3. **Meyniel’s theorem**\n",
    "Let $D$ be a strong digraph of\n",
    "order $n ≥ 2$. If $d(x) + d(y) ≥ 2n − 1$ for all pairs of non-adjacent vertices in\n",
    "$D$, then $D$ is hamiltonian.\n",
    "\n",
    "(Bang-jensen and Gutin: 242)"
   ]
  },
  {
   "cell_type": "markdown",
   "metadata": {},
   "source": [
    "The algorithm costs: $$O(n^2).$$"
   ]
  },
  {
   "cell_type": "code",
   "execution_count": 84,
   "metadata": {
    "collapsed": true
   },
   "outputs": [],
   "source": [
    "def Meyniel(G):\n",
    "    for i in range(len(G)):\n",
    "        for j in range(len(G)):\n",
    "            #self-loops not allowed\n",
    "            if i!=j:\n",
    "                #making sure they're not adjacent\n",
    "                if j not in list(G.neighbors(i)):\n",
    "                    if G.degree(i)+G.degree(j)<(2*len(G)-1):\n",
    "                        return 'undetermined'\n",
    "    return True"
   ]
  },
  {
   "cell_type": "code",
   "execution_count": 126,
   "metadata": {},
   "outputs": [
    {
     "data": {
      "text/plain": [
       "True"
      ]
     },
     "execution_count": 126,
     "metadata": {},
     "output_type": "execute_result"
    }
   ],
   "source": [
    "Meyniel(G)"
   ]
  },
  {
   "cell_type": "markdown",
   "metadata": {},
   "source": [
    "## 4. Corollary 5.6.6##\n",
    "**(Bang-jensen and Gutin: 242)**\n",
    "\n",
    "Let $D$ be a digraph of order $n ≥ 2$. $If$ $d^+(x) + d^−(y) ≥ n$\n",
    "for all pairs of vertices $x$ and $y$ such that there is no arc from $x$ to $y$, then $D$ is hamiltonian."
   ]
  },
  {
   "cell_type": "markdown",
   "metadata": {},
   "source": [
    "The algorithm costs: $$O(n^2)$$."
   ]
  },
  {
   "cell_type": "code",
   "execution_count": 86,
   "metadata": {
    "collapsed": true
   },
   "outputs": [],
   "source": [
    "def corollary_2(G):\n",
    "    for i in range(len(G)):\n",
    "        for j in range(len(G)):\n",
    "            #self-loops not allowed\n",
    "            if i!=j:\n",
    "                #making sure they're not adjacent\n",
    "                if (j not in list(G.neighbors(i))):\n",
    "                    if G.out_degree(i)+G.in_degree(j)<(len(G)):\n",
    "                        return 'undetermined'\n",
    "    return True"
   ]
  },
  {
   "cell_type": "code",
   "execution_count": 125,
   "metadata": {},
   "outputs": [
    {
     "data": {
      "text/plain": [
       "'undetermined'"
      ]
     },
     "execution_count": 125,
     "metadata": {},
     "output_type": "execute_result"
    }
   ],
   "source": [
    "corollary_2(random_graph(30,0.6))"
   ]
  },
  {
   "cell_type": "markdown",
   "metadata": {},
   "source": [
    "## 5. Theorem 5.6.11 (Manoussakis)\n",
    "**(Bang-jensen and Gutin: 242)**\n",
    "\n",
    "Suppose that $D$ satisfies the following condition for every triple $x, y, z ∈ V (D)$ such that $x$ and $y$ are non-adjacent:\n",
    "\n",
    "If there is no arc from $x$ to $z$, then $d(x) + d(y) + d^+(x) + d^−(z) ≥ 3n − 2$.\n",
    "\n",
    "If there is no arc from $z$ to $x$ then $d(x) + d(y) + d^−(x) + d^+(z) ≥ 3n − 2$.\n",
    "\n",
    "Then $D$ is **Hamiltonian**."
   ]
  },
  {
   "cell_type": "markdown",
   "metadata": {},
   "source": [
    "The algorithm costs: $$O(n^3).$$"
   ]
  },
  {
   "cell_type": "code",
   "execution_count": 89,
   "metadata": {
    "collapsed": true
   },
   "outputs": [],
   "source": [
    "def manoussakis(G):\n",
    "    for x in range(len(G)):\n",
    "        for y in range(len(G)):\n",
    "            #self-loops not allowed\n",
    "            if x!=y:\n",
    "                #making sure they're not adjacent\n",
    "                if (x not in list(G.neighbors(y))) and (y not in list(G.neighbors(x))):\n",
    "                    for z in range(len(G)):\n",
    "                        #making sure they're not the same node\n",
    "                        if z!=x and z!=y:\n",
    "                            # if there's no arc from x to z\n",
    "                            if z not in list(G.neighbors(x)):\n",
    "                                #checking if the condition holds and returns false if it doesnt\n",
    "                                test=G.degree(x)+G.degree(y)+G.out_degree(x)+G.in_degree(z)\n",
    "                                #3n-2\n",
    "                                test_against=3*len(G)-2\n",
    "                                if test<test_against:\n",
    "                                    return 'undetermined'\n",
    "                            if x not in list(G.neighbors(z)):\n",
    "                                #checking if the condition holds and returns false if it doesnt\n",
    "                                test=G.degree(x)+G.degree(y)+G.in_degree(x)+G.out_degree(z)\n",
    "                                #3n-2\n",
    "                                test_against=3*len(G)-2\n",
    "                                if test<test_against:\n",
    "                                    return 'undetermined'\n",
    "\n",
    "    return True"
   ]
  },
  {
   "cell_type": "code",
   "execution_count": 124,
   "metadata": {},
   "outputs": [
    {
     "data": {
      "text/plain": [
       "True"
      ]
     },
     "execution_count": 124,
     "metadata": {},
     "output_type": "execute_result"
    }
   ],
   "source": [
    "manoussakis(random_graph(30,.7))"
   ]
  },
  {
   "cell_type": "markdown",
   "metadata": {},
   "source": [
    "# Conclusion"
   ]
  },
  {
   "cell_type": "markdown",
   "metadata": {},
   "source": [
    "* Exhaustive search becomes impractical at larger graph sizes, but useful when $n$ is small.\n",
    "* Greedy algorithm gives approximations that are around 90% in the cases we tested.\n",
    "* Simulated annealing achieves better approximation results than the greedy algorithm, and has better asymptotic complexity.\n",
    "* If instance is a special case, then it can be decided in polynomial time.\n",
    "* There seems to be a relationship between high values of edge existence probability $p$ and the graph belonging to one of the special cases described."
   ]
  },
  {
   "cell_type": "markdown",
   "metadata": {},
   "source": [
    "# Reflection"
   ]
  },
  {
   "cell_type": "markdown",
   "metadata": {},
   "source": [
    "* I learned about the theory of NP-Completeness, and that all the problems that are proven to be NP-Complete are reducible into each other.\n",
    "* I learned that Depth-First-Search is useful in detecting cycles.\n",
    "* I learned alot about Graph-theortic concepts.\n",
    "* learned about the G(n,p) model for generating unbiased random graphs.\n",
    "* gained practice with graph representing and plotting libraries in python.\n",
    "* learned about greedy algorith for the **TSP**\n",
    "* learned about meta-heuristics and simulated annealing and other nature-inspired algorithms.\n",
    "* things I would've done differently:\n",
    " 1. Trying different values of $p$ instead of keeping it constant\n",
    " 2. used a greedy algorithm that used the vertex degree.\n",
    " 3. used a different meta-heuristic"
   ]
  },
  {
   "cell_type": "markdown",
   "metadata": {},
   "source": [
    "# References"
   ]
  },
  {
   "cell_type": "markdown",
   "metadata": {},
   "source": [
    "* Fournier, JC. (2010)\n",
    "**Graph Theory and Applications: With Exercises and Problems.**\n",
    "ISTE\n",
    "\t\t\n",
    "\n",
    "* Garey, S. and Johnson, D. (1979)\n",
    "**Computers and Intractability: A Guide to the Theory of NP-Completeness.**\n",
    "Freeman\n",
    "\n",
    "\n",
    "* Erdos, P. and Renyi, A. (1959).\n",
    "** On Random Graphs. I.**\n",
    "Publicationes Mathematicae. 6: 290–297.\n",
    "\n",
    "\n",
    "* Nilsson, C. (2003).\n",
    "** Heuristics for the Traveling Salesman Problem.**\n",
    "\n",
    "\n",
    "* Brownlee, J. (2011)\n",
    "**Clever Algorithms.** Lulu\n",
    "\n",
    "\n",
    "* Bang-Jensen, J. and Gutin, G. (2007)\n",
    "**Digraphs: Theory, Algorithms and Applications.** Springer"
   ]
  }
 ],
 "metadata": {
  "kernelspec": {
   "display_name": "Python 3",
   "language": "python",
   "name": "python3"
  },
  "language_info": {
   "codemirror_mode": {
    "name": "ipython",
    "version": 3
   },
   "file_extension": ".py",
   "mimetype": "text/x-python",
   "name": "python",
   "nbconvert_exporter": "python",
   "pygments_lexer": "ipython3",
   "version": "3.6.3"
  }
 },
 "nbformat": 4,
 "nbformat_minor": 2
}
